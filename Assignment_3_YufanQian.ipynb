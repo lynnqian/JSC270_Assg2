{
  "nbformat": 4,
  "nbformat_minor": 0,
  "metadata": {
    "colab": {
      "name": "Assignment_3_YufanQian.ipynb",
      "provenance": [],
      "collapsed_sections": [],
      "authorship_tag": "ABX9TyMRIAzhsTXQvtLu3FqBcOQj",
      "include_colab_link": true
    },
    "kernelspec": {
      "name": "python3",
      "display_name": "Python 3"
    }
  },
  "cells": [
    {
      "cell_type": "markdown",
      "metadata": {
        "id": "view-in-github",
        "colab_type": "text"
      },
      "source": [
        "<a href=\"https://colab.research.google.com/github/lynnqian/JSC270_Assg2/blob/YufanQian/Assignment_3_YufanQian.ipynb\" target=\"_parent\"><img src=\"https://colab.research.google.com/assets/colab-badge.svg\" alt=\"Open In Colab\"/></a>"
      ]
    },
    {
      "cell_type": "code",
      "metadata": {
        "id": "Wp2PNTnNelkm"
      },
      "source": [
        ""
      ],
      "execution_count": 162,
      "outputs": []
    },
    {
      "cell_type": "markdown",
      "metadata": {
        "id": "VjunLgm9enKh"
      },
      "source": [
        "# **Assignment 3**\n",
        "\n",
        "part 1: Bayesian Simulation\n"
      ]
    },
    {
      "cell_type": "code",
      "metadata": {
        "id": "uERok48zeD5_"
      },
      "source": [
        "import matplotlib.pyplot as plt\n",
        "import numpy as np\n",
        "import pandas as pd\n",
        "import seaborn as sns\n",
        "from scipy import stats\n",
        "import statsmodels.api as sm\n",
        "import statsmodels.formula.api as smf\n",
        "from sklearn.linear_model import LogisticRegression\n",
        "from sklearn.linear_model import LinearRegression\n",
        "from sklearn.model_selection import train_test_split\n",
        "from sklearn.utils import shuffle\n",
        "np.random.seed(12)"
      ],
      "execution_count": 163,
      "outputs": []
    },
    {
      "cell_type": "code",
      "metadata": {
        "colab": {
          "base_uri": "https://localhost:8080/",
          "height": 513
        },
        "id": "OehGV_tpfh0o",
        "outputId": "2f18a422-3bc9-416e-ae34-215a058f3de2"
      },
      "source": [
        "# function for generating one beta distribution\n",
        "def my_dist(a, b):\n",
        "  x = np.random.beta(a,b)\n",
        "  return x\n",
        "# function for generating n beta distributions\n",
        "def my_dist_sampler(n, a, b):\n",
        "  my_sample = [my_dist(a, b) for i in range(n)]\n",
        "  return my_sample\n",
        "# function for calculating the mean of all n distributions\n",
        "def mean(n, a, b):\n",
        "  return np.mean(my_dist_sampler(n, a, b))\n",
        "\n",
        "# simulates 1000 draws from the prior distribution derived\n",
        "prior = plt.hist(my_dist_sampler(1000, 1, 1))\n",
        "plt.show()\n",
        "# simulates 1000 draws from the posterior distribution derived\n",
        "posterior = plt.hist(my_dist_sampler(1000, 5, 17))\n",
        "plt.show()"
      ],
      "execution_count": 164,
      "outputs": [
        {
          "output_type": "display_data",
          "data": {
            "image/png": "[encoded data removed]",
            "text/plain": [
              "<Figure size 432x288 with 1 Axes>"
            ]
          },
          "metadata": {
            "tags": [],
            "needs_background": "light"
          }
        },
        {
          "output_type": "display_data",
          "data": {
            "image/png": "[encoded data removed]",
            "text/plain": [
              "<Figure size 432x288 with 1 Axes>"
            ]
          },
          "metadata": {
            "tags": [],
            "needs_background": "light"
          }
        }
      ]
    },
    {
      "cell_type": "code",
      "metadata": {
        "colab": {
          "base_uri": "https://localhost:8080/"
        },
        "id": "hfYyUjomh056",
        "outputId": "3bc375e7-51b6-4e87-eb48-c4fc96a0663d"
      },
      "source": [
        "# calculate the prior mean\n",
        "prior_mean = mean(1000, 1, 1)\n",
        "prior_mean"
      ],
      "execution_count": 165,
      "outputs": [
        {
          "output_type": "execute_result",
          "data": {
            "text/plain": [
              "0.4924469516388849"
            ]
          },
          "metadata": {
            "tags": []
          },
          "execution_count": 165
        }
      ]
    },
    {
      "cell_type": "code",
      "metadata": {
        "colab": {
          "base_uri": "https://localhost:8080/"
        },
        "id": "MqLIc3NVh4Zf",
        "outputId": "a7ea109e-9ce7-47d7-883f-6c824d07951d"
      },
      "source": [
        "# calculate the posterior mean\n",
        "posterior_mean = mean(1000, 5, 17)\n",
        "posterior_mean"
      ],
      "execution_count": 166,
      "outputs": [
        {
          "output_type": "execute_result",
          "data": {
            "text/plain": [
              "0.2306922161673938"
            ]
          },
          "metadata": {
            "tags": []
          },
          "execution_count": 166
        }
      ]
    },
    {
      "cell_type": "code",
      "metadata": {
        "colab": {
          "base_uri": "https://localhost:8080/"
        },
        "id": "OH9BMZ8miIaA",
        "outputId": "40e1685b-de4f-4fc7-a18e-0d6b58ce5f4c"
      },
      "source": [
        "# the traditional likelihood estimate\n",
        "estimate = 4/20\n",
        "estimate"
      ],
      "execution_count": 167,
      "outputs": [
        {
          "output_type": "execute_result",
          "data": {
            "text/plain": [
              "0.2"
            ]
          },
          "metadata": {
            "tags": []
          },
          "execution_count": 167
        }
      ]
    },
    {
      "cell_type": "code",
      "metadata": {
        "colab": {
          "base_uri": "https://localhost:8080/",
          "height": 513
        },
        "id": "TpcUAU6QjygI",
        "outputId": "5155bcaf-b8db-4eb3-a55c-ff7fb73a54e6"
      },
      "source": [
        "# new parameters: a = 1 and b = 3\n",
        "# simulates 1000 draws from the prior distribution derived\n",
        "prior = plt.hist(my_dist_sampler(1000, 1, 3))\n",
        "plt.show()\n",
        "# simulates 1000 draws from the posterior distribution derived\n",
        "posterior = plt.hist(my_dist_sampler(1000, 5, 19))\n",
        "plt.show()"
      ],
      "execution_count": 168,
      "outputs": [
        {
          "output_type": "display_data",
          "data": {
            "image/png": "[encoded data removed]",
            "text/plain": [
              "<Figure size 432x288 with 1 Axes>"
            ]
          },
          "metadata": {
            "tags": [],
            "needs_background": "light"
          }
        },
        {
          "output_type": "display_data",
          "data": {
            "image/png": "[encoded data removed]",
            "text/plain": [
              "<Figure size 432x288 with 1 Axes>"
            ]
          },
          "metadata": {
            "tags": [],
            "needs_background": "light"
          }
        }
      ]
    },
    {
      "cell_type": "code",
      "metadata": {
        "colab": {
          "base_uri": "https://localhost:8080/"
        },
        "id": "ylojfMSpkGhv",
        "outputId": "53b30e22-61b8-406a-c03e-a94cc80353a5"
      },
      "source": [
        "# calculate the new prior mean\n",
        "prior_mean = mean(1000, 1, 3)\n",
        "prior_mean"
      ],
      "execution_count": 169,
      "outputs": [
        {
          "output_type": "execute_result",
          "data": {
            "text/plain": [
              "0.25767019256848744"
            ]
          },
          "metadata": {
            "tags": []
          },
          "execution_count": 169
        }
      ]
    },
    {
      "cell_type": "code",
      "metadata": {
        "colab": {
          "base_uri": "https://localhost:8080/"
        },
        "id": "i9Cw6GgskJO1",
        "outputId": "3a8633a7-d5ac-4bd4-e564-d5194b645c13"
      },
      "source": [
        "# calculate the new posterior mean\n",
        "posterior_mean = mean(1000, 5, 19)\n",
        "posterior_mean"
      ],
      "execution_count": 170,
      "outputs": [
        {
          "output_type": "execute_result",
          "data": {
            "text/plain": [
              "0.20693955595425476"
            ]
          },
          "metadata": {
            "tags": []
          },
          "execution_count": 170
        }
      ]
    },
    {
      "cell_type": "code",
      "metadata": {
        "colab": {
          "base_uri": "https://localhost:8080/",
          "height": 513
        },
        "id": "2F2IUbfmkgyv",
        "outputId": "3334eddb-1fb8-4f74-8760-96438769217a"
      },
      "source": [
        "# new parameters: a = 1 and b = 3, different n\n",
        "# simulates 1000 draws from the prior distribution derived\n",
        "prior = plt.hist(my_dist_sampler(1000, 1, 3))\n",
        "plt.show()\n",
        "# simulates 1000 draws from the posterior distribution derived\n",
        "posterior = plt.hist(my_dist_sampler(1000, 13, 11))\n",
        "plt.show()"
      ],
      "execution_count": 171,
      "outputs": [
        {
          "output_type": "display_data",
          "data": {
            "image/png": "[encoded data removed]",
            "text/plain": [
              "<Figure size 432x288 with 1 Axes>"
            ]
          },
          "metadata": {
            "tags": [],
            "needs_background": "light"
          }
        },
        {
          "output_type": "display_data",
          "data": {
            "image/png": "[encoded data removed]",
            "text/plain": [
              "<Figure size 432x288 with 1 Axes>"
            ]
          },
          "metadata": {
            "tags": [],
            "needs_background": "light"
          }
        }
      ]
    },
    {
      "cell_type": "code",
      "metadata": {
        "colab": {
          "base_uri": "https://localhost:8080/"
        },
        "id": "GE4JPIdbk25Y",
        "outputId": "794f55ec-c64e-437e-ab9a-fcba206d94e6"
      },
      "source": [
        "# calculate the new prior mean\n",
        "prior_mean = mean(1000, 1, 3)\n",
        "prior_mean"
      ],
      "execution_count": 172,
      "outputs": [
        {
          "output_type": "execute_result",
          "data": {
            "text/plain": [
              "0.2584947599018071"
            ]
          },
          "metadata": {
            "tags": []
          },
          "execution_count": 172
        }
      ]
    },
    {
      "cell_type": "code",
      "metadata": {
        "colab": {
          "base_uri": "https://localhost:8080/"
        },
        "id": "SkyYMduXk4hF",
        "outputId": "a209c6e1-bb76-47f9-fc71-3985fe8ee7b7"
      },
      "source": [
        "# calculate the new posterior mean\n",
        "posterior_mean = mean(1000, 13, 11)\n",
        "posterior_mean"
      ],
      "execution_count": 173,
      "outputs": [
        {
          "output_type": "execute_result",
          "data": {
            "text/plain": [
              "0.5363642021889823"
            ]
          },
          "metadata": {
            "tags": []
          },
          "execution_count": 173
        }
      ]
    },
    {
      "cell_type": "markdown",
      "metadata": {
        "id": "a10nA56nezNp"
      },
      "source": [
        "part 2: Asymptotic Behavior\n"
      ]
    },
    {
      "cell_type": "code",
      "metadata": {
        "id": "uPR21Ztxe4Zv"
      },
      "source": [
        "def expo_dist():\n",
        "  x = np.random.exponential(1/2)\n",
        "  return x\n",
        "# function for generating n exponential distributions\n",
        "def my_expo_sampler(n):\n",
        "  my_sample = [expo_dist() for i in range(n)]\n",
        "  return my_sample\n",
        "def expo_mean(n):\n",
        "  return np.mean(my_expo_sampler(n))"
      ],
      "execution_count": 174,
      "outputs": []
    },
    {
      "cell_type": "code",
      "metadata": {
        "colab": {
          "base_uri": "https://localhost:8080/",
          "height": 1000
        },
        "id": "pC_8_wB8fSZK",
        "outputId": "7ccf8b8c-52c9-4c90-8502-9158a4e53d34"
      },
      "source": [
        "expo_1 = plt.hist(my_expo_sampler(10))\n",
        "plt.show()\n",
        "expo_2 = plt.hist(my_expo_sampler(20))\n",
        "plt.show()\n",
        "expo_3 = plt.hist(my_expo_sampler(50))\n",
        "plt.show()\n",
        "expo_4 = plt.hist(my_expo_sampler(100))\n",
        "plt.show()\n",
        "expo_5 = plt.hist(my_expo_sampler(500))\n",
        "plt.show()\n",
        "expo_6 = plt.hist(my_expo_sampler(2000))\n",
        "plt.show()"
      ],
      "execution_count": 175,
      "outputs": [
        {
          "output_type": "display_data",
          "data": {
            "image/png": "[encoded data removed]",
            "text/plain": [
              "<Figure size 432x288 with 1 Axes>"
            ]
          },
          "metadata": {
            "tags": [],
            "needs_background": "light"
          }
        },
        {
          "output_type": "display_data",
          "data": {
            "image/png": "[encoded data removed]",
            "text/plain": [
              "<Figure size 432x288 with 1 Axes>"
            ]
          },
          "metadata": {
            "tags": [],
            "needs_background": "light"
          }
        },
        {
          "output_type": "display_data",
          "data": {
            "image/png": "[encoded data removed]",
            "text/plain": [
              "<Figure size 432x288 with 1 Axes>"
            ]
          },
          "metadata": {
            "tags": [],
            "needs_background": "light"
          }
        },
        {
          "output_type": "display_data",
          "data": {
            "image/png": "[encoded data removed]",
            "text/plain": [
              "<Figure size 432x288 with 1 Axes>"
            ]
          },
          "metadata": {
            "tags": [],
            "needs_background": "light"
          }
        },
        {
          "output_type": "display_data",
          "data": {
            "image/png": "[encoded data removed]",
            "text/plain": [
              "<Figure size 432x288 with 1 Axes>"
            ]
          },
          "metadata": {
            "tags": [],
            "needs_background": "light"
          }
        },
        {
          "output_type": "display_data",
          "data": {
            "image/png": "[encoded data removed]",
            "text/plain": [
              "<Figure size 432x288 with 1 Axes>"
            ]
          },
          "metadata": {
            "tags": [],
            "needs_background": "light"
          }
        }
      ]
    },
    {
      "cell_type": "code",
      "metadata": {
        "colab": {
          "base_uri": "https://localhost:8080/",
          "height": 265
        },
        "id": "De7dap__q-o8",
        "outputId": "b8cc3ad7-dd49-43d2-82cb-e8767137ce1c"
      },
      "source": [
        "x = (10, 20, 50, 100, 500, 2000)\n",
        "y = (expo_mean(10), expo_mean(20), expo_mean(50), expo_mean(100), expo_mean(500), expo_mean(2000))\n",
        "plt.plot(x, y)\n",
        "x_coordinates = [0, 2000]\n",
        "y_coordinates = [0.5, 0.5]\n",
        "plt.plot(x_coordinates, y_coordinates, dashes=[10, 5, 20, 5])\n",
        "plt.show()"
      ],
      "execution_count": 176,
      "outputs": [
        {
          "output_type": "display_data",
          "data": {
            "image/png": "[encoded data removed]",
            "text/plain": [
              "<Figure size 432x288 with 1 Axes>"
            ]
          },
          "metadata": {
            "tags": [],
            "needs_background": "light"
          }
        }
      ]
    },
    {
      "cell_type": "markdown",
      "metadata": {
        "id": "teNqJH3cwK_Z"
      },
      "source": [
        "part 3: Bootstrapping and Classification"
      ]
    },
    {
      "cell_type": "code",
      "metadata": {
        "id": "O2twqYmT7Wi6"
      },
      "source": [
        "# step 1: set the seed\n",
        "np.random.seed(12)\n",
        "\n",
        "def single_uniform(a, b):\n",
        "    return np.random.uniform(a, b)\n",
        "\n",
        "def multiple_uniform(n, a, b):\n",
        "    my_sample = [single_uniform(a, b) for i in range(n)]\n",
        "    return my_sample\n",
        "\n",
        "def multiple_d(n):\n",
        "    my_sample = np.random.randint(5, size=n)\n",
        "    return my_sample\n",
        "\n",
        "# step 2: generate n observations of x1, x2 and d1\n",
        "x1 = multiple_uniform(1000, -100, 100)\n",
        "x2 = multiple_uniform(1000, -150, 150)\n",
        "d1 = multiple_d(1000)\n",
        "\n",
        "# step 3: generate n observations of epsilon\n",
        "epsilon_ = multiple_uniform(1000, 0, 4)\n",
        "\n",
        "# step 4: generate regression line\n",
        "reg_value = [5 + 0.6 * x1[i] + 0.8 * x2[i] + 0.4 * d1[i] + epsilon_[i] for i in range(1000)]\n",
        "\n",
        "# step 5: apply the sigmoid function\n",
        "pie_value = np.exp(reg_value) / (1 + np.exp(reg_value))\n",
        "\n",
        "# step 6: generate label yi\n",
        "yi = [int(pie_value[i] > 0.5) for i in range(1000)]\n",
        "\n",
        "# step extra\n",
        "Xi = [(x1[i], x2[i], d1[i]) for i in range(1000)]\n"
      ],
      "execution_count": 177,
      "outputs": []
    },
    {
      "cell_type": "code",
      "metadata": {
        "colab": {
          "base_uri": "https://localhost:8080/",
          "height": 279
        },
        "id": "bvs0eF9wCpa9",
        "outputId": "2cf55a73-a6b8-48c7-d551-a1ec2371cfbb"
      },
      "source": [
        "from sklearn.metrics import plot_roc_curve\n",
        "from sklearn import metrics\n",
        "from sklearn import datasets, metrics, model_selection, svm\n",
        "\n",
        "# Split data into train and test sets using 80/20 split\n",
        "X_train, X_test, y_train, y_test = train_test_split(Xi, yi, test_size = 0.2, shuffle=True, random_state=12)\n",
        "\n",
        "# plot the ROC curve\n",
        "plot = svm.SVC(random_state=12)\n",
        "plot.fit(X_train,y_train)\n",
        "metrics.plot_roc_curve(plot, X_test, y_test)\n",
        "plt.show()"
      ],
      "execution_count": 178,
      "outputs": [
        {
          "output_type": "display_data",
          "data": {
            "image/png": "[encoded data removed]",
            "text/plain": [
              "<Figure size 432x288 with 1 Axes>"
            ]
          },
          "metadata": {
            "tags": [],
            "needs_background": "light"
          }
        }
      ]
    },
    {
      "cell_type": "code",
      "metadata": {
        "id": "NI5Z8uARzQbX"
      },
      "source": [
        "from sklearn.tree import DecisionTreeClassifier\n",
        "from sklearn.ensemble import RandomForestClassifier\n",
        "from sklearn.metrics import *\n",
        "\n",
        "np.random.seed(12)\n",
        "\n",
        "# instantiate array of size 5000\n",
        "arr = [0 for i in range(5000)]\n",
        "\n",
        "for i in range(5000): \n",
        "  # generate resample i of size 1000 from main sample\n",
        "  num = np.random.choice(range(1000), size = 1000, replace = True)\n",
        "  \n",
        "  # use same num for x and y value\n",
        "  x = [Xi[i] for i in num]\n",
        "  y = [yi[i] for i in num]\n",
        "  \n",
        "  # fit decision tree classifier\n",
        "  classifier = DecisionTreeClassifier(random_state=0)\n",
        "  classifier.fit(x, y)\n",
        "  \n",
        "  # remaining observations and predict\n",
        "  left_x = [Xi[i] for i in range(1000) if i not in num]\n",
        "  left_y = [yi[i] for i in range(1000) if i not in num]\n",
        "  predicted_y = classifier.predict(left_x)\n",
        "  \n",
        "  # computed metric and add to array\n",
        "  arr[i] = precision_score(left_y, predicted_y)"
      ],
      "execution_count": 179,
      "outputs": []
    },
    {
      "cell_type": "code",
      "metadata": {
        "colab": {
          "base_uri": "https://localhost:8080/",
          "height": 265
        },
        "id": "z8rjgFEf9HL9",
        "outputId": "04869b3e-4a9f-404f-f1ab-aee20602ba9f"
      },
      "source": [
        "plt.hist(arr)\n",
        "plt.show()"
      ],
      "execution_count": 180,
      "outputs": [
        {
          "output_type": "display_data",
          "data": {
            "image/png": "[encoded data removed]",
            "text/plain": [
              "<Figure size 432x288 with 1 Axes>"
            ]
          },
          "metadata": {
            "tags": [],
            "needs_background": "light"
          }
        }
      ]
    },
    {
      "cell_type": "code",
      "metadata": {
        "colab": {
          "base_uri": "https://localhost:8080/"
        },
        "id": "wP_l5uqR9H86",
        "outputId": "25899a9a-6462-4a77-f4eb-d9ac512b133a"
      },
      "source": [
        "# mean for part D\n",
        "np.mean(arr)"
      ],
      "execution_count": 181,
      "outputs": [
        {
          "output_type": "execute_result",
          "data": {
            "text/plain": [
              "0.971443574900714"
            ]
          },
          "metadata": {
            "tags": []
          },
          "execution_count": 181
        }
      ]
    },
    {
      "cell_type": "code",
      "metadata": {
        "id": "qgiQgURfxdDP"
      },
      "source": [
        "# value from part A\n",
        "X_train, X_test, y_train, y_test = train_test_split(Xi, yi, test_size = 0.2, shuffle=True, random_state=12)\n",
        "\n",
        "classifier = DecisionTreeClassifier(random_state=0)\n",
        "classifier.fit(X_train, y_train)\n",
        " \n",
        "predicted_y = classifier.predict(X_test)\n",
        "  \n",
        "result = precision_score(y_test, predicted_y)"
      ],
      "execution_count": 194,
      "outputs": []
    },
    {
      "cell_type": "code",
      "metadata": {
        "colab": {
          "base_uri": "https://localhost:8080/"
        },
        "id": "2eqW3mbi0yfM",
        "outputId": "bbe41547-e95e-4f52-ebdc-6c0aefd9ff46"
      },
      "source": [
        "result"
      ],
      "execution_count": 193,
      "outputs": [
        {
          "output_type": "execute_result",
          "data": {
            "text/plain": [
              "0.9649122807017544"
            ]
          },
          "metadata": {
            "tags": []
          },
          "execution_count": 193
        }
      ]
    }
  ]
}